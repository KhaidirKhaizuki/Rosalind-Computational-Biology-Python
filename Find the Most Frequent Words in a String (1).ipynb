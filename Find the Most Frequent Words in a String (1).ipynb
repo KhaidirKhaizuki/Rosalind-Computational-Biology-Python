{
 "cells": [
  {
   "cell_type": "code",
   "execution_count": 21,
   "metadata": {},
   "outputs": [
    {
     "name": "stdout",
     "output_type": "stream",
     "text": [
      "['AATCGAATCAAAT']\n"
     ]
    }
   ],
   "source": [
    "import sys\n",
    "from collections import defaultdict\n",
    "\n",
    "# Data input\n",
    "seq = sys.argv[0]\n",
    "k = sys.argv[1]\n",
    "\n",
    "# Finding k-mers\n",
    "kmers = defaultdict(int)\n",
    "\n",
    "\n",
    "def FindKmer(seq, k):\n",
    "  \n",
    "    seq = seq.upper()\n",
    "    assert set(seq).issubset(set(['A', 'C', 'T', 'G', 'N'])), 'Invalid bases'\n",
    "    for i in range(0, len(seq)-(k-1)):\n",
    "        kmers[seq[i:i+k]] += 1\n",
    "    return [key for key, val in kmers.items()\n",
    "            if val == max(kmers.values())]\n",
    "\n",
    "if __name__ == '__main__':\n",
    "   \n",
    "    print(FindKmer(\"\"\"TGGCTATAAGCACGCCCGTCGAATCAAATCGAATCAAAGCACGCCCGTGCCACTGTTGGCTATAATGCCACTGTTGGCTATAATTTTTTACATGCCACTGTTGCCACTGTTCGAATCAAATCGAATCAAATTTTTTACATGCCACTGTGCACGCCCGTCGAATCAAATGGCTATAAGCACGCCCGTCGAATCAAATTTTTTACATGCCACTGTTCGAATCAAATTTTTTACATGGCTATAATCGAATCAAATCGAATCAAATTTTTTACATGGCTATAAGCACGCCCGTGCCACTGTTGCCACTGTGCACGCCCGTGCCACTGTTCGAATCAAATGCCACTGTGCACGCCCGTTTTTTACATTTTTTACATTTTTTACATGGCTATAATGGCTATAATGCCACTGTTCGAATCAAAGCACGCCCGTTTTTTACATGGCTATAAGCACGCCCGTTTTTTACATGCCACTGTTTTTTTACATGCCACTGTTGGCTATAATCGAATCAAATTTTTTACAGCACGCCCGGCACGCCCGTGGCTATAATTTTTTACATGCCACTGTTCGAATCAAATCGAATCAAATTTTTTACATTTTTTACATGGCTATAATGGCTATAATCGAATCAAATGCCACTGTGCACGCCCGTGCCACTGTTCGAATCAAATTTTTTACATGGCTATAATGGCTATAATGGCTATAATTTTTTACATGCCACTGTTCGAATCAAATCGAATCAAATCGAATCAAATTTTTTACATGCCACTGTTGCCACTGTTGCCACTGTGCACGCCCGGCACGCCCGTGGCTATAAGCACGCCCGGCACGCCCGTGGCTATAATGGCTATAATTTTTTACATCGAATCAAATGCCACTGTTCGAATCAAATCGAATCAAATCGAATCAAATGCCACTGTTTTTTTACAGCACGCCCGTGCCACTGTTGGCTATAAGCACGCCCGTTTTTTACATCGAATCAAATGGCTATAA\"\"\", 13))\n",
    "\n"
   ]
  },
  {
   "cell_type": "code",
   "execution_count": null,
   "metadata": {},
   "outputs": [],
   "source": []
  },
  {
   "cell_type": "code",
   "execution_count": null,
   "metadata": {},
   "outputs": [],
   "source": []
  }
 ],
 "metadata": {
  "kernelspec": {
   "display_name": "Python 3",
   "language": "python",
   "name": "python3"
  },
  "language_info": {
   "codemirror_mode": {
    "name": "ipython",
    "version": 3
   },
   "file_extension": ".py",
   "mimetype": "text/x-python",
   "name": "python",
   "nbconvert_exporter": "python",
   "pygments_lexer": "ipython3",
   "version": "3.8.3"
  }
 },
 "nbformat": 4,
 "nbformat_minor": 4
}
