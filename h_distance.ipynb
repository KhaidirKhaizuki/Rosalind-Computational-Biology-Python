{
 "cells": [
  {
   "cell_type": "code",
   "execution_count": 7,
   "metadata": {},
   "outputs": [
    {
     "name": "stdout",
     "output_type": "stream",
     "text": [
      "Loop Hamming Distance:1\n",
      "Set Hamming Distance:(0, 'T') (0, 'A')\n",
      "(1, 'T') (1, 'T')\n",
      "(2, 'C') (2, 'C')\n",
      "(3, 'G') (3, 'A')\n",
      "(4, 'A') (4, 'A')\n",
      "(5, 'T') (5, 'T')\n",
      "(6, 'C') (6, 'C')\n",
      "(7, 'C') (7, 'G')\n",
      "(8, 'A') (8, 'A')\n",
      "(9, 'T') (9, 'T')\n",
      "(10, 'T') (10, 'C')\n",
      "(11, 'G') (11, 'G')\n",
      "4\n"
     ]
    }
   ],
   "source": [
    "dna_str_1 = \"TTCGATCCATTG\"\n",
    "dna_str_2 = \"ATCAATCGATCG\"\n",
    "\n",
    "def h_d_loop(str_1, str_2):\n",
    "    h_distance = 0\n",
    "    for position in range(len(str_1)):\n",
    "        if str_1[position] != str_2[position]:\n",
    "            h_distance += 1\n",
    "            return h_distance\n",
    "  \n",
    "def h_d_set(str_1, str_2):\n",
    "    nucleotide_set_1 = set([(x,y) for x, y in enumerate(str_1)])\n",
    "    nucleotide_set_2 = set([(x,y) for x, y in enumerate(str_2)])\n",
    "    \n",
    "    for x in range(len(nucleotide_set_1)) :\n",
    "        print(sorted(nucleotide_set_1)[x], sorted(nucleotide_set_2)[x])\n",
    "    \n",
    "    return len (nucleotide_set_1.difference(nucleotide_set_2))\n",
    "\n",
    "print(\"Loop Hamming Distance:\", end ='')\n",
    "print(h_d_loop(dna_str_1, dna_str_2))\n",
    "\n",
    "print(\"Set Hamming Distance:\", end='')\n",
    "print(h_d_set(dna_str_1, dna_str_2))"
   ]
  },
  {
   "cell_type": "code",
   "execution_count": null,
   "metadata": {},
   "outputs": [],
   "source": []
  }
 ],
 "metadata": {
  "kernelspec": {
   "display_name": "Python 3",
   "language": "python",
   "name": "python3"
  },
  "language_info": {
   "codemirror_mode": {
    "name": "ipython",
    "version": 3
   },
   "file_extension": ".py",
   "mimetype": "text/x-python",
   "name": "python",
   "nbconvert_exporter": "python",
   "pygments_lexer": "ipython3",
   "version": "3.8.3"
  }
 },
 "nbformat": 4,
 "nbformat_minor": 4
}
