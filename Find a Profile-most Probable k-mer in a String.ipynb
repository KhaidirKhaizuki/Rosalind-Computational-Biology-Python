{
 "cells": [
  {
   "cell_type": "code",
   "execution_count": 10,
   "metadata": {},
   "outputs": [
    {
     "name": "stdout",
     "output_type": "stream",
     "text": [
      "TCGCTATG\n"
     ]
    }
   ],
   "source": [
    "profile_row = {'A': 0, 'C':1, 'G':2, 'T':3}\n",
    "def read_profile_matrix(fileName):\n",
    "    with open(fileName) as f:\n",
    "        lines = f.readlines()\n",
    "\n",
    "    for i in range(0, len(lines)):\n",
    "        lines[i] = lines[i].strip()\n",
    "\n",
    "    data = list(list())\n",
    "    for i in range(0, len(lines)):\n",
    "        data.append(lines[i].split())\n",
    "\n",
    "    for i in range(0, len(data)):\n",
    "        for j in range(0, len(data[i])):\n",
    "            data[i][j] = float(data[i][j])\n",
    "\n",
    "    return data\n",
    "\n",
    "def pattern_probability(profile, pattern):\n",
    "    probability = 1\n",
    "    for i in range(0, len(pattern)):\n",
    "        probability *= profile[profile_row[pattern[i]]][i]\n",
    "\n",
    "    return probability\n",
    "\n",
    "def profile_most_probable_kmer(dna, profile, k):\n",
    "    start = 0\n",
    "    length = len(dna)\n",
    "    max_probability = 0\n",
    "    most_probable = ''\n",
    "    while start + k <= length:\n",
    "        substr = dna[start:start+k]\n",
    "        probability = pattern_probability(profile, substr)\n",
    "        if probability > max_probability:\n",
    "            most_probable = substr\n",
    "            max_probability = probability\n",
    "\n",
    "        start += 1\n",
    "\n",
    "    print (most_probable)\n",
    "\n",
    "if __name__ == \"__main__\":\n",
    "    data = read_profile_matrix(\"inputq3.txt\")\n",
    "    profile_most_probable_kmer(\"\"\"AGTAAACTACTCGCTATGCTATGATCTTAACGCTGTCTATCGCGTTATACAGCGTAACACAGTAAGCATCGATCTAGTGGGTCAACGTTGGTCATGAAGTTGTCATGTGTATACCCACCATATAAGATCTTTGATAGTGGGAGTAGCTGTAAGTATCGAAGCTTTTTTAGTAAGTTATGTGATCAAGATGTGAGAGCCTT\"\"\", data, 8)"
   ]
  },
  {
   "cell_type": "markdown",
   "metadata": {},
   "source": [
    "GreedyMotifSearch constructs Profile(Motifs) and selects the Profile-most probable k-mer from Dnai based on this profile matrix. After obtaining a k-mer from each string to obtain a collection Motifs, GreedyMotifSearch tests to see whether Motifs outscores the current best scoring collection of motifs and then moves Motif1 one symbol over in Dna1, beginning the entire process of generating Motifs again."
   ]
  },
  {
   "cell_type": "markdown",
   "metadata": {},
   "source": [
    "def read_profile_matrix(fileName): we set special to read floating input only. If there exist any string inside the file, error will occur.\n",
    "\n",
    "def pattern_probability(profile, pattern): it builds a profile matrix Profile for this lone k-mer, and sets Motif2 equal to the Profile-most probable k-mer in Dna2. It then iterates by updating Profile as the profile matrix formed from Motif1 and Motif2, and sets Motif3 equal to the Profile-most probable k-mer in Dna3. In general, after finding i − 1 k-mers Motifs in the first i − 1 strings of Dna,"
   ]
  },
  {
   "cell_type": "markdown",
   "metadata": {},
   "source": [
    "Reference=\"https://github.com/andreyrozumnyi/rosalind/blob/master/Chapter%202/BA2C.py\""
   ]
  },
  {
   "cell_type": "code",
   "execution_count": null,
   "metadata": {},
   "outputs": [],
   "source": []
  }
 ],
 "metadata": {
  "kernelspec": {
   "display_name": "Python 3",
   "language": "python",
   "name": "python3"
  },
  "language_info": {
   "codemirror_mode": {
    "name": "ipython",
    "version": 3
   },
   "file_extension": ".py",
   "mimetype": "text/x-python",
   "name": "python",
   "nbconvert_exporter": "python",
   "pygments_lexer": "ipython3",
   "version": "3.8.3"
  }
 },
 "nbformat": 4,
 "nbformat_minor": 4
}
