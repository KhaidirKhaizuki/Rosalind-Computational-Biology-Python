{
 "cells": [
  {
   "cell_type": "code",
   "execution_count": 2,
   "metadata": {},
   "outputs": [
    {
     "data": {
      "text/plain": [
       "'20 57 95 136 143 255 361 394 432 439 446 462 479 486 507 514 521 529 547 554 561 568 601 620 627 674 690 697 746 900 '"
      ]
     },
     "execution_count": 2,
     "metadata": {},
     "output_type": "execute_result"
    }
   ],
   "source": [
    "s = \"\"\"TCTAAAAGTACAAAAGTAGAAAAGTAAAAAGTAGAAAAGTAGACGCAAAAGTACACAAAAGTAAAAAGTATAAAAGTACGTCCTCAAAAGTACGAAAAGTAAAAAGTAGGAAAAGTACACCACAAAAGTAGGCCGAAAAGTAAAAAGTAAAAGCGACAAAAGTACAAAAGTACTGAAAAAAGTATTAAAAGTATTCCAAAAGTACAAAAGTAATCGAAAAGTACAAAAGTAGGAAAAGTACCGAAAAGTAGTCAAAAAGTAAAAAGTAGCTGTAAAAGTACCACAGTAAAAAGTAATAAAAGTATGCAGGCTAAACAAAAGTACACAAAAGTAATAAAAGTAACACAAAAGTATCCCCGTAAAAGTAAAAAGTAGAAAAGTAGTAAAAGTAACAAAAGTAAAAAAGTAAGAAAAGTATAAAAGTACGATTTAAAAGTAAAAAGTAAAAAGTAAAAAAGTATAAAAGTAAAAAAGTATCAAAAGTAAAAAGTAAAAAAGTATTCAAAAAAAGTAAAAAGTAAAAAGTAAAAAAGTAAAAAGTAGTCGAAAAGTAAAAAGTAAAAAGTAAAAAGTAAAAAGTAGACATTTGCAAAAGTACACAAAAGTAAAAAGTACAAATAAAAGTAAAAAGTAAAAAGTATTCCAGAGAGATCGACCTGATGAAAAGTATCGGAAAAGTAAAAAGTATAAAAAGTAAAAAGTAAAAAGTAAGTAAAAGTAGGCACTGAAAAGTAGAAAAGTATTTAAAAGTAAAAAGTATGGCGACAAAAGTATAAAAGTAGAAAAGTATAAAAGTAGAAAAGTACCAGAAAAAGTATTAAAAGTATTTAAAAGTATAAAAGTACAAAAGTATCTACATAAAAGTAAGAAAAAGTACCAGAAAAGTAATAAAAGTAGCTAAAAGTAAAAAGTATGTCAAAAGTAGGCAAAAGTACAAAAGTA\"\"\"\n",
    "t = \"AAAAGTAAA\"\n",
    "def findMotif(a,b):\n",
    "    start = 0\n",
    "    while True:\n",
    "        start = s.find(t,start)\n",
    "        if start == -1: return\n",
    "        yield start + 1\n",
    "        start += 1\n",
    "        \n",
    "x = findMotif(s,t)\n",
    "answer = ''\n",
    "for y in x:\n",
    "    answer = answer + str(y) + \" \"    \n",
    "    \n",
    "answer  "
   ]
  },
  {
   "cell_type": "code",
   "execution_count": null,
   "metadata": {},
   "outputs": [],
   "source": []
  }
 ],
 "metadata": {
  "kernelspec": {
   "display_name": "Python 3",
   "language": "python",
   "name": "python3"
  },
  "language_info": {
   "codemirror_mode": {
    "name": "ipython",
    "version": 3
   },
   "file_extension": ".py",
   "mimetype": "text/x-python",
   "name": "python",
   "nbconvert_exporter": "python",
   "pygments_lexer": "ipython3",
   "version": "3.8.3"
  }
 },
 "nbformat": 4,
 "nbformat_minor": 4
}
