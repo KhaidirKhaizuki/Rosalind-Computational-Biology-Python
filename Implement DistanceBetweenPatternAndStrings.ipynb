{
 "cells": [
  {
   "cell_type": "code",
   "execution_count": 1,
   "metadata": {},
   "outputs": [
    {
     "name": "stdout",
     "output_type": "stream",
     "text": [
      "48\n"
     ]
    }
   ],
   "source": [
    "def hamming_distance(str1, str2):\n",
    "    counter = 0\n",
    "    for s1, s2 in zip(str1, str2):\n",
    "        if s1 != s2:\n",
    "            counter += 1\n",
    "    return counter\n",
    "\n",
    "def distance_between_pattern_and_strings(pattern, dna):\n",
    "    k = len(pattern)\n",
    "    distance = 0\n",
    "    for string in dna:\n",
    "        hammingdistance = float(\"inf\")\n",
    "        for i in range(len(string) - k + 1):\n",
    "            if hammingdistance > hamming_distance(pattern, string[i:i + k]):\n",
    "                hammingdistance = hamming_distance(pattern, string[i:i + k])\n",
    "        distance = distance + hammingdistance\n",
    "    return distance\n",
    "\n",
    "\n",
    "if __name__ == \"__main__\":\n",
    "    data = \"\".join(open('distance_between_pattern_and_strings.txt')).split()\n",
    "    distance = distance_between_pattern_and_strings(data[0], data[1:])\n",
    "    print(distance)"
   ]
  },
  {
   "cell_type": "code",
   "execution_count": null,
   "metadata": {},
   "outputs": [],
   "source": []
  }
 ],
 "metadata": {
  "kernelspec": {
   "display_name": "Python 3",
   "language": "python",
   "name": "python3"
  },
  "language_info": {
   "codemirror_mode": {
    "name": "ipython",
    "version": 3
   },
   "file_extension": ".py",
   "mimetype": "text/x-python",
   "name": "python",
   "nbconvert_exporter": "python",
   "pygments_lexer": "ipython3",
   "version": "3.8.3"
  }
 },
 "nbformat": 4,
 "nbformat_minor": 4
}
