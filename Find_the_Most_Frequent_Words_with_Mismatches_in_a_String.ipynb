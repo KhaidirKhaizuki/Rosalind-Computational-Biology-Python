{
  "nbformat": 4,
  "nbformat_minor": 0,
  "metadata": {
    "colab": {
      "name": "Find the Most Frequent Words with Mismatches in a String.ipynb",
      "provenance": []
    },
    "kernelspec": {
      "display_name": "Python 3",
      "name": "python3"
    }
  },
  "cells": [
    {
      "cell_type": "code",
      "metadata": {
        "colab": {
          "base_uri": "https://localhost:8080/"
        },
        "id": "zeVWIOhLAuHs",
        "outputId": "ab324369-3b1f-43ab-e02b-46a71e2168af"
      },
      "source": [
        "def hamming_distance(str1, str2, d):\r\n",
        "\r\n",
        "    counter = 0\r\n",
        "    for s1, s2 in zip(str1, str2):\r\n",
        "        if s1 != s2:\r\n",
        "            counter += 1\r\n",
        "        if counter > d:\r\n",
        "            return 0\r\n",
        "    return 1\r\n",
        "\r\n",
        "\r\n",
        "def make_word(num, k):\r\n",
        "    newNum = ''\r\n",
        "    while num > 0:\r\n",
        "        newNum = str(num % 4) + newNum\r\n",
        "        num //= 4\r\n",
        "    newNum = \"0\"*(k - len(newNum)) + newNum\r\n",
        "    return newNum\r\n",
        "\r\n",
        "\r\n",
        "def find_frequent(string, k,d):\r\n",
        "    words = []\r\n",
        "    result = []\r\n",
        "\r\n",
        "    for i in range(len(string) - k + 1):\r\n",
        "        words.append(string[i: i + k])\r\n",
        "\r\n",
        "    mmax = 0\r\n",
        "    for i in range(4**k - 1):\r\n",
        "        # if (i % 2000) == 0:\r\n",
        "        #     print('.', end='')\r\n",
        "        testword = make_word(i, k)\r\n",
        "        frequenti = 0\r\n",
        "        for c in words:\r\n",
        "            if hamming_distance(testword, c, d):\r\n",
        "                frequenti += 1\r\n",
        "\r\n",
        "        if mmax < frequenti:\r\n",
        "            mmax = frequenti\r\n",
        "            result = [testword]\r\n",
        "        elif mmax == frequenti:\r\n",
        "            result.append(testword)\r\n",
        "\r\n",
        "    str_result = []\r\n",
        "    for w in result:\r\n",
        "        sstr = \"\"\r\n",
        "        for c in w:\r\n",
        "            if (c == \"0\"):\r\n",
        "                sstr += \"A\"\r\n",
        "            elif (c == \"1\"):\r\n",
        "                sstr += \"C\"\r\n",
        "            elif (c == \"2\"):\r\n",
        "                sstr += \"T\"\r\n",
        "            elif (c == \"3\"):\r\n",
        "                sstr += \"G\"\r\n",
        "        str_result.append(sstr)\r\n",
        "    return str_result\r\n",
        "\r\n",
        "data =\"\".join(open('/content/drive/MyDrive/Rosalind Bioinformatics/rosalind_ba1i.txt')).split()\r\n",
        "\r\n",
        "data_num = []\r\n",
        "for c in data[0]:\r\n",
        "    if (c == \"A\"):\r\n",
        "        data_num.append(\"0\")\r\n",
        "    elif (c == \"C\"):\r\n",
        "        data_num.append(\"1\")\r\n",
        "    elif (c == \"T\"):\r\n",
        "        data_num.append(\"2\")\r\n",
        "    elif (c == \"G\"):\r\n",
        "        data_num.append(\"3\")\r\n",
        "data[0] = data_num\r\n",
        "print(*find_frequent(data[0], int(data[1]), int(data[2])))"
      ],
      "execution_count": 3,
      "outputs": [
        {
          "output_type": "stream",
          "text": [
            "GAGTTCA\n"
          ],
          "name": "stdout"
        }
      ]
    }
  ]
}