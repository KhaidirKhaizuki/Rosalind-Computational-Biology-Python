{
 "cells": [
  {
   "cell_type": "code",
   "execution_count": 30,
   "metadata": {},
   "outputs": [
    {
     "name": "stdout",
     "output_type": "stream",
     "text": [
      "208 194 203 215\n"
     ]
    }
   ],
   "source": [
    "dataset = \"\"\"CAGTTCGTCCATAGGATTCTCTGGTTAGGGCATTATTCCGCAACAGCGGTTCTCTACGTCGGCCTACTGGGTTGAGAAGATCACCGAAATTTCAAAAGACAAACCGGAGTCCTGAAGACCCCAATACCTGGCGACAGAGATGCATTTAATAAGACTCGCGATTACTCTGACTTTGTAACTAAAAGCCCCGTGATTGACGCACCAGCAGCGCGATCGGGGCGTTGTAAGGACGCGCATACATTCATCTGAGTGACTTTAATGTAGGGACTGAGAAGTCGTAGAATGCGAAGGCTAGGTCTACTTCACAACCGCTTTAATTCAACTTGGGTGGACTAATGTATGACGGTGTCTAATTAGTTGTCTAATCGAAACATTACCTCAAAAGGAGTGTCGGCTCAGTCGGTGGCAACACGTCGTATCAATACGGACTAACGACGTTGGTAGTTCTGATATGGTCTTACCAGGCTGCACGCGCGGGTGCCCTGAGAAAAGTCATGCATGATGCCAAACGAGGAACCAACTCTCAGATCTATCATGTGCGAATTAGTGGTGGGTTCATGCCCAGTAGACGGGGGCTGATTCGTTTCCTGACCGCTTCTAAGATCTTGACTAGGCGCGGTTTATCTACCGCTACATTTGCCTTGAAGGTACATTGGCTGTGTTGAAGTCGTTTGTCTTGATCCCAAGAGCCTACACCACAGTATCGCGGATCTCATTAGTTTCTTAATCTCCATGCACACACACTTTTCCAATGGTCCGGGGCACGATGAGTAAGAACTCCCCTTCTGAGTCTGAGGTATTACACACGGGGCAAGCTTCC\n",
    "\"\"\"\n",
    "a = dataset.count('A')\n",
    "c = dataset.count('C')\n",
    "g = dataset.count('G')\n",
    "t = dataset.count('T')\n",
    "\n",
    "print(a, c, g, t)"
   ]
  },
  {
   "cell_type": "code",
   "execution_count": null,
   "metadata": {},
   "outputs": [],
   "source": []
  },
  {
   "cell_type": "code",
   "execution_count": null,
   "metadata": {},
   "outputs": [],
   "source": []
  }
 ],
 "metadata": {
  "kernelspec": {
   "display_name": "Python 3",
   "language": "python",
   "name": "python3"
  },
  "language_info": {
   "codemirror_mode": {
    "name": "ipython",
    "version": 3
   },
   "file_extension": ".py",
   "mimetype": "text/x-python",
   "name": "python",
   "nbconvert_exporter": "python",
   "pygments_lexer": "ipython3",
   "version": "3.8.3"
  }
 },
 "nbformat": 4,
 "nbformat_minor": 4
}
