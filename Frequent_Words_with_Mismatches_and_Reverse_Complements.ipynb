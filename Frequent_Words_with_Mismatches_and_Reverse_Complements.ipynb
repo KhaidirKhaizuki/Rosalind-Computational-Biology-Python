{
  "nbformat": 4,
  "nbformat_minor": 0,
  "metadata": {
    "colab": {
      "name": "Frequent Words with Mismatches and Reverse Complements.ipynb",
      "provenance": []
    },
    "kernelspec": {
      "name": "python3",
      "display_name": "Python 3"
    }
  },
  "cells": [
    {
      "cell_type": "code",
      "metadata": {
        "colab": {
          "base_uri": "https://localhost:8080/"
        },
        "id": "0gibuxxCxROF",
        "outputId": "2092963e-6667-44f4-f335-0862c05e3262"
      },
      "source": [
        "def complement(x):\r\n",
        "    return {'A':'T','T':'A','C':'G','G':'C'}[x]\r\n",
        "\r\n",
        "def reversecomplement(x):\r\n",
        "    return ''.join([complement(x[i]) for i in range(len(x)-1, -1,-1)])\r\n",
        "\r\n",
        "def hamming_distance(str1, str2):\r\n",
        "\r\n",
        "    counter = 0\r\n",
        "    for s1, s2 in zip(str1, str2):\r\n",
        "        if s1 != s2:\r\n",
        "            counter += 1\r\n",
        "    return counter\r\n",
        "\r\n",
        "\r\n",
        "def neighbors(pattern, d):\r\n",
        "    if d == 0:\r\n",
        "        return pattern\r\n",
        "    if len(pattern) == 1:\r\n",
        "        return [\"A\", \"C\", \"G\", \"T\"]\r\n",
        "    neighbor= []\r\n",
        "    suffixneighbors = neighbors(pattern[1:], d)\r\n",
        "    for text in suffixneighbors:\r\n",
        "        if hamming_distance(pattern[1:], text) < d:\r\n",
        "            for x in [\"A\", \"C\", \"G\", \"T\"]:\r\n",
        "                neighbor.append(x + text)\r\n",
        "        else:\r\n",
        "            neighbor.append(pattern[0] + text)\r\n",
        "\r\n",
        "    return neighbor\r\n",
        "\r\n",
        "\r\n",
        "def find_frequent(string, k, d):\r\n",
        "    words = []\r\n",
        "    neighborhood = set()\r\n",
        "    result = []\r\n",
        "\r\n",
        "    for i in range(len(string) - k + 1):\r\n",
        "        words.append(string[i: i + k])\r\n",
        "\r\n",
        "    for i in range(len(string) - k + 1):\r\n",
        "        words.append(reversecomplement(string[i: i + k]))\r\n",
        "\r\n",
        "\r\n",
        "    for word in words:\r\n",
        "        neighborhood.update(set(neighbors(word, d)))\r\n",
        "\r\n",
        "    mmax = 0\r\n",
        "    for i in neighborhood:\r\n",
        "        frequenti = 0\r\n",
        "        for c in words:\r\n",
        "            if hamming_distance(i, c) <= d:\r\n",
        "                frequenti += 1\r\n",
        "\r\n",
        "        if mmax < frequenti:\r\n",
        "            mmax = frequenti\r\n",
        "            result = [i]\r\n",
        "        elif mmax == frequenti:\r\n",
        "            result.append(i)\r\n",
        "\r\n",
        "\r\n",
        "    return result\r\n",
        "\r\n",
        "data = \"\".join(open('/content/drive/MyDrive/Rosalind Bioinformatics/rosalind_ba1j.txt')).split()\r\n",
        "print(*find_frequent(data[0], int(data[1]), int(data[2])))"
      ],
      "execution_count": 2,
      "outputs": [
        {
          "output_type": "stream",
          "text": [
            "TCATGA\n"
          ],
          "name": "stdout"
        }
      ]
    }
  ]
}