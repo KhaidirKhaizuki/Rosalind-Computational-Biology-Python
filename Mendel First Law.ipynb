{
 "cells": [
  {
   "cell_type": "code",
   "execution_count": 6,
   "metadata": {},
   "outputs": [
    {
     "name": "stdout",
     "output_type": "stream",
     "text": [
      "0.75207\n"
     ]
    }
   ],
   "source": [
    "import itertools\n",
    "\n",
    "def dominant_probability(num_homozygous_dominant, num_heterozygous, num_homozygous_recessive):\n",
    "\ttotal = num_homozygous_dominant + num_heterozygous + num_homozygous_recessive\n",
    "\n",
    "\trecessive_probability = (num_homozygous_recessive / total) * ((num_homozygous_recessive - 1) / (total - 1))\n",
    "\theterozygous_probability = (num_heterozygous / total) * ((num_heterozygous - 1) / (total - 1))\n",
    "\thetero_recessive_probability = (num_heterozygous / total) * (num_homozygous_recessive / (total - 1)) + (num_homozygous_recessive / total) * (num_heterozygous / (total - 1))\n",
    "\n",
    "\trecessive_total = recessive_probability + heterozygous_probability * (.25) + hetero_recessive_probability * (.5)\n",
    "\treturn (1 - recessive_total)\n",
    "\n",
    "if __name__ == \"__main__\":\n",
    "\n",
    "\tresult = round(dominant_probability(20.0, 30.0, 20.0), 5)\n",
    "\tprint(result)\n",
    "\n",
    "\t# new dataset output\n",
    "\tf = open('workfile.txt', 'w')\n",
    "\tf.write(str(result))"
   ]
  },
  {
   "cell_type": "markdown",
   "metadata": {},
   "source": [
    "this is note about how to calculate\n",
    "\n"
   ]
  },
  {
   "cell_type": "markdown",
   "metadata": {},
   "source": [
    "first do calculation"
   ]
  },
  {
   "cell_type": "code",
   "execution_count": null,
   "metadata": {},
   "outputs": [],
   "source": []
  }
 ],
 "metadata": {
  "kernelspec": {
   "display_name": "Python 3",
   "language": "python",
   "name": "python3"
  },
  "language_info": {
   "codemirror_mode": {
    "name": "ipython",
    "version": 3
   },
   "file_extension": ".py",
   "mimetype": "text/x-python",
   "name": "python",
   "nbconvert_exporter": "python",
   "pygments_lexer": "ipython3",
   "version": "3.8.3"
  }
 },
 "nbformat": 4,
 "nbformat_minor": 4
}
