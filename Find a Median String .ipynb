{
 "cells": [
  {
   "cell_type": "code",
   "execution_count": 4,
   "metadata": {},
   "outputs": [
    {
     "name": "stdout",
     "output_type": "stream",
     "text": [
      "TAAGCG\n"
     ]
    }
   ],
   "source": [
    "def MinHammingDistance(pattern, string):\n",
    "    min_distance = len(pattern)\n",
    "    for i in range(len(string) - len(pattern) + 1):\n",
    "        distance = sum([1 for j in range(len(pattern)) if pattern[j] != string[i:i+len(pattern)][j]])\n",
    "        if distance < min_distance:\n",
    "            min_distance = distance\n",
    "    return min_distance\n",
    "\n",
    "def GenerateArray(k):\n",
    "    bases = ['A', 'C', 'G', 'T']\n",
    "    array = bases\n",
    "    for n in range(k-1):\n",
    "        array = [i+j for i in array for j in bases]\n",
    "    return array\n",
    "\n",
    "def FindMedianString(k, dna):\n",
    "    pattern = GenerateArray(k)\n",
    "    distance_of_pattern_dna = {}\n",
    "    min_string = len(dna) * len(pattern)\n",
    "    for i in pattern:\n",
    "        sum_distance = 0\n",
    "        for j in range(len(dna)):\n",
    "            sum_distance += MinHammingDistance(i, dna[j])\n",
    "        distance_of_pattern_dna[i] = sum_distance\n",
    "        if sum_distance < min_string:\n",
    "            min_string = sum_distance\n",
    "    for t in distance_of_pattern_dna.keys():\n",
    "        if distance_of_pattern_dna[t] == min_string:\n",
    "            print(t)\n",
    "\n",
    "if __name__ == \"__main__\":\n",
    "    with open(\"inputmedian.txt\", \"r\") as f:\n",
    "        k = int(f.readline().strip())\n",
    "        dna = [line.strip() for line in f]\n",
    "    FindMedianString(k, dna)"
   ]
  },
  {
   "cell_type": "markdown",
   "metadata": {},
   "source": [
    "Our goal is to find a k-mer Pattern that minimizes d(Pattern, Dna) over all k-mers Pattern, the same task that the Equivalent Motif Finding Problem is trying to achieve. We call such a k-mer a median string for Dna.\n",
    "\n",
    "First we need function for hammingdistance to read the pattern which is number of kmers and the string of dna.\n",
    "Second function to generate array and the last one to find median inside the sequence.\n",
    "\n",
    "Notice that finding a median string requires solving a double minimization problem. We must find a k-mer Pattern that minimizes d(pattern, string), where this function is itself computed by taking a minimum over all choices of k-mers from each string in Dna."
   ]
  },
  {
   "cell_type": "markdown",
   "metadata": {},
   "source": [
    "Reference=\"https://github.com/zonghui0228/rosalind-solutions/blob/master/code/rosalind_ba2b.py\""
   ]
  }
 ],
 "metadata": {
  "kernelspec": {
   "display_name": "Python 3",
   "language": "python",
   "name": "python3"
  },
  "language_info": {
   "codemirror_mode": {
    "name": "ipython",
    "version": 3
   },
   "file_extension": ".py",
   "mimetype": "text/x-python",
   "name": "python",
   "nbconvert_exporter": "python",
   "pygments_lexer": "ipython3",
   "version": "3.8.3"
  }
 },
 "nbformat": 4,
 "nbformat_minor": 4
}
