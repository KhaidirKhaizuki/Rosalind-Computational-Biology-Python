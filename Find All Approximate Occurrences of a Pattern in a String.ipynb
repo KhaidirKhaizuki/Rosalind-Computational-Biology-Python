{
 "cells": [
  {
   "cell_type": "code",
   "execution_count": 5,
   "metadata": {},
   "outputs": [
    {
     "name": "stdout",
     "output_type": "stream",
     "text": [
      "16 28 118 330 356 420 480 608 687 721 735 808 839 893 962 992 1113 1181 1213 1289 1335 1472 1633 1660 1690 1768 1783 1864 1995 2039 2049 2071 2176 2205 2217 2227 2251 2376 2428 2479 2513 2535 2579 2623 2645 2726 2797 2916 3114 3166 3182 3190 3357 3554 3782 3844 3895 4033 4097 4110 4160 4216 4250 4289 4352 4426 4574 4666 4703 4757 4806 4885 4936 4987 5014 5033 5098 5172 5226 5246 5296 5299 5408 5460 5553 5566 5642 5893 5909 5940 6094 6139 6469 6516 6523 6565 6582 6607 6931 7062 7089 7105 7242 7267 7275 7300 7379 7547 7570 7621 7637 7675 7725 7762 7793 7813 7832 7840 7887 7893 7929 7961 8058 8135 8156 8162 8224 8265 8273 8298 8356 8413 8454 8516 8571 8677 8690 8775 8832 8929 9005 9208 9237 9307 9337 9366 9480 9588 9704 9776 9912 9948 9983 10054 10129 10158 10240 10288 10293 10381 10389 10401 10439 10543 10556 10612 10630 10674 10730 10735 10833 10836 10886 11014 11072 11085 11110 11124 11295 11376 11407 11429 11529 11539 11585 11595 11910 12213 12404 12436 12639 12706 12825 12898 12962 13121 13218 13253 13317 13392 13505 13552 13587 13592 13604 13828 13895 14014 14146 14167 14294 14374 14412 14487 14571 14611 14629 14679 14705 14891 14976 15214 15220 15224 15273 15383 15486 15625 15701 15760 15858 15864 15876 15973 16006 16036 16131 16139 16156 16167 16207 16511 16567 16598 16668 16673 16755 16767 16801 16909 16970 16979 17046 17114 17242 17289 17374 17532 17554\n"
     ]
    }
   ],
   "source": [
    "def find_position(pattern, string, maxerror):\n",
    "    position = []\n",
    "    k = len(pattern)\n",
    "    for i in range(len(string)):\n",
    "        word = \"\".join(string[i: i + k])\n",
    "        if func(word, pattern, maxerror) == 1:\n",
    "            position.append(i)\n",
    "    print(*position)\n",
    "\n",
    "\n",
    "def func(str, pattern, maxerror):\n",
    "    if (len(str) != len(pattern)):\n",
    "        return 0\n",
    "    errorcount = 0\n",
    "    for i in range(len(str)):\n",
    "        if (str[i] != pattern[i]):\n",
    "            errorcount += 1\n",
    "        if errorcount > maxerror:\n",
    "            return 0\n",
    "    return 1\n",
    "\n",
    "data =\"\".join(open('approximate_match.txt')).split()\n",
    "find_position(data[0], data[1], int(data[2]))"
   ]
  },
  {
   "cell_type": "code",
   "execution_count": null,
   "metadata": {},
   "outputs": [],
   "source": []
  },
  {
   "cell_type": "code",
   "execution_count": null,
   "metadata": {},
   "outputs": [],
   "source": []
  }
 ],
 "metadata": {
  "kernelspec": {
   "display_name": "Python 3",
   "language": "python",
   "name": "python3"
  },
  "language_info": {
   "codemirror_mode": {
    "name": "ipython",
    "version": 3
   },
   "file_extension": ".py",
   "mimetype": "text/x-python",
   "name": "python",
   "nbconvert_exporter": "python",
   "pygments_lexer": "ipython3",
   "version": "3.8.3"
  }
 },
 "nbformat": 4,
 "nbformat_minor": 4
}
