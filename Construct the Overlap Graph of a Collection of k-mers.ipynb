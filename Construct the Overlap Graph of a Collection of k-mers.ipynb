{
 "cells": [
  {
   "cell_type": "code",
   "execution_count": 6,
   "metadata": {},
   "outputs": [],
   "source": [
    "import collections\n",
    "\n",
    "\n",
    "def read_data_from(file_name):\n",
    "    with open(file_name) as f:\n",
    "        data = f.readlines()\n",
    "\n",
    "    for i in range(0, len(data)):\n",
    "        data[i] = data[i].strip()\n",
    "\n",
    "    return data\n",
    "\n",
    "\n",
    "def prefix(string):\n",
    "    return string[:len(string)-1]\n",
    "\n",
    "\n",
    "def suffix(string):\n",
    "    return string[1:]\n",
    "\n",
    "\n",
    "def overlap(patterns, out_file):\n",
    "    pat_len = len(patterns)\n",
    "    pairs = {}\n",
    "    for i in range(pat_len):\n",
    "        for j in range(pat_len):\n",
    "            if (i != j) and (suffix(patterns[i]) == prefix(patterns[j])):\n",
    "                pairs[patterns[i]] = patterns[j]\n",
    "\n",
    "    od = collections.OrderedDict(sorted(pairs.items()))\n",
    "    with open(out_file, 'w+') as file:\n",
    "        for key in od.keys():\n",
    "            file.write(str(key) + \" -> \" + str(od[key]) + \"\\n\")\n",
    "\n",
    "\n",
    "if __name__ == \"__main__\":\n",
    "    patterns = read_data_from(\"inputcon3.txt\")\n",
    "    overlap(patterns, \"out\")"
   ]
  },
  {
   "cell_type": "markdown",
   "metadata": {},
   "source": [
    "Form a node for each k-mer in Patterns and connect k-mers Pattern and Pattern' by a directed edge if Suffix(Pattern) is equal to Prefix(Pattern'). The resulting graph is called the overlap graph on these k-mers, denoted Overlap(Patterns).\n",
    "What will do is we -1 for early string which is prefix and we add suffix at the end.\n",
    "For example\n",
    "ATGCG\n",
    "GCATG\n",
    "CATGC\n",
    "AGGCA\n",
    "GGCAT\n",
    "GGCAT first we remove the prefix, it will be GCAT. Then we look at the input is there any GCAT at the input file. So we found GCATG."
   ]
  },
  {
   "cell_type": "markdown",
   "metadata": {},
   "source": [
    "Reference=\"https://github.com/andreyrozumnyi/rosalind/tree/master/Chapter%204\""
   ]
  },
  {
   "cell_type": "code",
   "execution_count": null,
   "metadata": {},
   "outputs": [],
   "source": []
  },
  {
   "cell_type": "code",
   "execution_count": null,
   "metadata": {},
   "outputs": [],
   "source": []
  },
  {
   "cell_type": "code",
   "execution_count": null,
   "metadata": {},
   "outputs": [],
   "source": []
  }
 ],
 "metadata": {
  "kernelspec": {
   "display_name": "Python 3",
   "language": "python",
   "name": "python3"
  },
  "language_info": {
   "codemirror_mode": {
    "name": "ipython",
    "version": 3
   },
   "file_extension": ".py",
   "mimetype": "text/x-python",
   "name": "python",
   "nbconvert_exporter": "python",
   "pygments_lexer": "ipython3",
   "version": "3.8.5"
  }
 },
 "nbformat": 4,
 "nbformat_minor": 4
}
