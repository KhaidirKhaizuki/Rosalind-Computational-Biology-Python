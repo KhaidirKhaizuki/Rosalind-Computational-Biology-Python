{
 "cells": [
  {
   "cell_type": "code",
   "execution_count": 1,
   "metadata": {},
   "outputs": [
    {
     "name": "stdout",
     "output_type": "stream",
     "text": [
      "['9']\n",
      "00000000010000000110000001010000001110000010010000010110000011010000011110000100010000100110000101010000101110000110010000110110000111010000111110001000110001001010001001110001010010001010110001011010001011110001100110001101010001101110001110010001110110001111010001111110010010010110010011010010011110010100110010101010010101110010110110010111010010111110011001110011010110011011010011011110011101010011101110011110110011111010011111110101010110101011110101101110101110110101111110110110111110111011110111111111\n"
     ]
    }
   ],
   "source": [
    "import itertools\n",
    "\n",
    "\n",
    "def k_universal_string_problem(k):\n",
    "    cycle = eulerian_cycle_problem(debrujin_graph_from_kmers(binary_strings(k)))\n",
    "    cycle = cycle[:-(k-1)]\n",
    "    genome = cycle[0][:-1]\n",
    "    for i in cycle:\n",
    "        genome += i[-1]\n",
    "    return genome\n",
    "\n",
    "\n",
    "def eulerian_cycle_problem(dict):\n",
    "    stack = []\n",
    "    random_vertex = sorted(dict.keys())[0]\n",
    "    stack.append(random_vertex)\n",
    "    path = []\n",
    "    while stack != []:\n",
    "        u_v = stack[-1]\n",
    "        try:\n",
    "            w = dict[u_v][0]\n",
    "            stack.append(w)\n",
    "            dict[u_v].remove(w)\n",
    "        except:\n",
    "            path.append(stack.pop())\n",
    "    return path[::-1]\n",
    "\n",
    "\n",
    "def binary_strings(k):\n",
    "    universe = [\"0\", \"1\"]\n",
    "    kmers = [\"\".join(el) for el in itertools.product(universe, repeat=k)]\n",
    "    return sorted(kmers)\n",
    "\n",
    "\n",
    "def debrujin_graph_from_kmers(patterns):\n",
    "    kmers = []\n",
    "    for pattern in patterns:\n",
    "        kmers = kmers+suffix_composition(len(pattern), pattern, uniq=True)\n",
    "    kmers = set(kmers)\n",
    "    dict = {}\n",
    "    for kmer1 in kmers:\n",
    "        dict[kmer1] = []\n",
    "    for kmer in patterns:\n",
    "        dict[prefix(kmer)].append(suffix(kmer))\n",
    "    return dict\n",
    "\n",
    "\n",
    "def suffix_composition(k, text, uniq=False):\n",
    "    kmers = []\n",
    "    for i in range(len(text)+1-k):\n",
    "        kmers.append(text[i:i+k-1])\n",
    "    if uniq:\n",
    "        return sorted(list(kmers))\n",
    "    else:\n",
    "        return sorted(kmers)\n",
    "\n",
    "\n",
    "def suffix(string):\n",
    "    return string[1:]\n",
    "\n",
    "\n",
    "def prefix(string):\n",
    "    return string[0:-1]\n",
    "\n",
    "\n",
    "if __name__ == \"__main__\":\n",
    "    data = \"\".join(open('universal_string.txt')).split()\n",
    "    print(data)\n",
    "    print(k_universal_string_problem(int(data[0])))"
   ]
  },
  {
   "cell_type": "markdown",
   "metadata": {},
   "source": [
    "reference=\"https://github.com/Butskov/Bioinformatics-Algorithms/blob/master/week5-6/12%20-%20k-Universal%20Circular%20String%20Problem.py\""
   ]
  },
  {
   "cell_type": "code",
   "execution_count": null,
   "metadata": {},
   "outputs": [],
   "source": []
  }
 ],
 "metadata": {
  "kernelspec": {
   "display_name": "Python 3",
   "language": "python",
   "name": "python3"
  },
  "language_info": {
   "codemirror_mode": {
    "name": "ipython",
    "version": 3
   },
   "file_extension": ".py",
   "mimetype": "text/x-python",
   "name": "python",
   "nbconvert_exporter": "python",
   "pygments_lexer": "ipython3",
   "version": "3.8.5"
  }
 },
 "nbformat": 4,
 "nbformat_minor": 4
}
