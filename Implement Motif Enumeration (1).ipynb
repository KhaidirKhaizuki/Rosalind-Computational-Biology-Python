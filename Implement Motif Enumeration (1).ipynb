{
 "cells": [
  {
   "cell_type": "code",
   "execution_count": 7,
   "metadata": {},
   "outputs": [
    {
     "name": "stdout",
     "output_type": "stream",
     "text": [
      "{'TATGT', 'TATGG', 'TATGC', 'TATGA'}\n"
     ]
    }
   ],
   "source": [
    "import itertools\n",
    "\n",
    "def combination(k):\n",
    "    return (''.join(p) for p in itertools.product('ATCG', repeat=k))\n",
    "\n",
    "def hamming_distance(pattern, seq):\n",
    "    return sum(c1 != c2 for c1, c2 in zip(pattern, seq))\n",
    "\n",
    "def window(s, k):\n",
    "    for i in range(1 + len(s) - k):\n",
    "        yield s[i:i+k]\n",
    "\n",
    "def motif_enumeration(k, d, DNA):\n",
    "    pattern = set()\n",
    "    for combo in combination(k):\n",
    "        if all(any(hamming_distance(combo, pat) <= d \n",
    "                for pat in window(string, k)) for string in DNA):\n",
    "            pattern.add(combo)\n",
    "    return pattern\n",
    "\n",
    "DNA = ['AGCTTCGCTGGCACCTATGACACCG', 'TATGGATCTAGGTTAAGCTAGTCAA', 'AAACTAACCTGGTCGCCTCATATGT', 'TATGGGGATGGCTTGGTAAAAGTGA','GGATATATGATTACTATCAGTAGTT','TATGTAGCCAATCGCTCATATCTGG','CTATGTATGGACTCCTCGTAACGAA','CCTGGTATGCACCGAGAATACACTA','TATGCAACACACAGTAAGCTAAGCA','TTTACTATGTGTTGGCAAGGCGTAA']\n",
    "print(motif_enumeration(5, 1, DNA))"
   ]
  },
  {
   "cell_type": "markdown",
   "metadata": {},
   "source": [
    "Python's Itertool is a module that provides various functions that work on iterators to produce complex iterators.\n",
    "\n",
    "k is the number of nucleotide per motif while d is mismatch.\n",
    "inside here we have sevaral dunction such combination, hamming distance,window and motif_enumeration.\n",
    "We can calculate the Hamming distance efficiently by passing a generator to the sum function."
   ]
  },
  {
   "cell_type": "code",
   "execution_count": null,
   "metadata": {},
   "outputs": [],
   "source": []
  }
 ],
 "metadata": {
  "kernelspec": {
   "display_name": "Python 3",
   "language": "python",
   "name": "python3"
  },
  "language_info": {
   "codemirror_mode": {
    "name": "ipython",
    "version": 3
   },
   "file_extension": ".py",
   "mimetype": "text/x-python",
   "name": "python",
   "nbconvert_exporter": "python",
   "pygments_lexer": "ipython3",
   "version": "3.8.3"
  }
 },
 "nbformat": 4,
 "nbformat_minor": 4
}
