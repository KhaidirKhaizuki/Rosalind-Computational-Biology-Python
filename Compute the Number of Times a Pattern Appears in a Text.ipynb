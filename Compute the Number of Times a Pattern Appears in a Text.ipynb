{
 "cells": [
  {
   "cell_type": "code",
   "execution_count": 7,
   "metadata": {},
   "outputs": [
    {
     "name": "stdout",
     "output_type": "stream",
     "text": [
      "30\n"
     ]
    }
   ],
   "source": [
    "\n",
    "\n",
    "def occurrences(string, sub):\n",
    "    \n",
    "    number = start = 0\n",
    "    while True:\n",
    "        start = string.find(sub, start) + 1\n",
    "        if start > 0:\n",
    "            number += 1\n",
    "        else:\n",
    "            return number\n",
    "\n",
    "def read_data_from(file_name):\n",
    "    with open(file_name, \"r\") as file:\n",
    "        string = file.readline().strip()\n",
    "        pattern = file.readline().strip()\n",
    "\n",
    "    return string, pattern\n",
    "\n",
    "if __name__ == \"__main__\":\n",
    "    string, pattern = read_data_from(\"sample1.txt\")\n",
    "    print (occurrences(string, pattern))\n",
    "    \n",
    "    # ingat nak print je even function kena print(function(a,b))\n",
    "\n"
   ]
  },
  {
   "cell_type": "code",
   "execution_count": null,
   "metadata": {},
   "outputs": [],
   "source": []
  },
  {
   "cell_type": "code",
   "execution_count": null,
   "metadata": {},
   "outputs": [],
   "source": []
  }
 ],
 "metadata": {
  "kernelspec": {
   "display_name": "Python 3",
   "language": "python",
   "name": "python3"
  },
  "language_info": {
   "codemirror_mode": {
    "name": "ipython",
    "version": 3
   },
   "file_extension": ".py",
   "mimetype": "text/x-python",
   "name": "python",
   "nbconvert_exporter": "python",
   "pygments_lexer": "ipython3",
   "version": "3.8.3"
  }
 },
 "nbformat": 4,
 "nbformat_minor": 4
}
