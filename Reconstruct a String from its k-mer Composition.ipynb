{
 "cells": [
  {
   "cell_type": "code",
   "execution_count": 2,
   "metadata": {},
   "outputs": [
    {
     "name": "stdout",
     "output_type": "stream",
     "text": [
      "AGTACGGCATCACGTCTGTGGGCAAATTTTTTTCGAATTATTCCGATCCTATAATACCCCGCGATGAATTGTTATCCCCGTGCATGTTATTGACATCCCACTCTTTACGGCGGTCTAGAAGGATCCTGCTCTTATGTTTACCTTGACCTGGTCGCAATCTTCGGTAGTCCGGGATAATTTGATCCGTGAAATCGAAAGTGTATCTGGCGGGGAAGTGAGCTCTCGTCGCTGCCTCGCACCCTCTAGGTTCGGGCCCTATGGCTGTGAAGTTGATCAAGATCCTGTGTGGACTATAGCAGTAGTGTGCAGTGGCGATAATCACGCTTTCTTCTCGTACTGACCGAGGTTGAGTGTATAAACAGTCATTGCGACCGCATCCCCAGAATGGGGCGAGCGGCTAGAGTTTAGACGTGGTTCTTTCAAAGGACTAGTAAGTCAGGTCCGGGCAAGACCTGTTAGCTACCACATGACACAGAGAGACTCGTGCAGTGCCTGGTTACCCGCAGGAGTTCACGGGAACACCTAAGCCTGAAAGTATAATATAGTCAATTGCAGATGATCACCTGATAGTAGTCGTCTTCATTGGGAGAATTAACGCGGTTATCCAATTCAGGGCCCCTCACGGCTCGGCTTCTTTGCCGGGTTGTCTCGGTACCAGTGGGTCATCCATATATATTTGTAGCAATGCCTCCATGAATCCACTTAATGACTCGCTATGTTTCAACCCATCATGTCTACACACGCCTTGAAATAGCTCCGTTGTTTCGGGCACTACGAGGATCTGACCGAGGCCAATTCAATGAGTTCATATAGGAGCGAAGGTTCATCAGATTAATTGCTCGGAAATATACCACTCTTAGTATCTCGCTACAATAAATCAAGTTAAGCACTTTATACGGGCAGGCTCAGGATTGGACCGGAGGAGGACCTACTAGGCCTTTCGAGTTTGATAATCTTACCGTTCCATTCCGTGTCTGATATGGGTTGTAAGTCCTCAGAAATAAAAGAAGGAGCGTCGTACATAGTGCTGGCGTGTGACGGCTGTGGGACACGGTAATATCAAACGCACAAGTTGAATGAGGTAGTGCTCGATAAAGTGCTGTTTTCCCTAGTGGAATGTACCCAAGCGTATGATCTGCGCGCAATGATAAATGTGAGAAGTCGAGATACCGCGCAGGCGGCTCTGCTTTGGGTGGGTTAGCAATGAGGAGGCTAAATCAGAGAAGGACCACATTCCATTTCGATTATCTACTACCCCAGACACTCAAGGAATACTACGGGACCCGTTTATGTATCACAGGCGTAGATGCCTAGCAGGGACGGTATAAAATCAGCGGGACTGACTCCGTCTCCCTCTTGATACGGAGAGCCTCTTTTGCGGGTAACCCCGAAGCGGATAACTGAGTATCTATACTGCTGAAAAGCTGGTGCTTTCGTCTGTAACTTGTGAAGGTTCAGTACATATAATGAAGCTAACTTCAGAAGAAGGCCCCGACAGAGGCACATTGGGACATCGAACACTTACAGCCACGAACGACCAGTTCAGTGGATCAATTGTCCGAACATTTCCGCCGAGACATTGCGACTGACACTAAGGTATCTCGCTAGACCATGTTCTGTAAAACCACATGCTCACGATTCTGAGAAACCTTTACCGCCAACTAAGTGATCTACGTCCATTAGCGCGCTACACGCCACGCTACCACAACGTCACACTGCTGCGGCAGCAGCCAACTCTAGCGGTCTACTTTTTTAGCAACGCAATTTCAATTTGCTGTTTGGCCAGCAAAAGAGGCTTGAGTCATATGCCCTGACGACCCCCCTTTCTCGGCAGACTAGCAGTGCATCGAGCGTTCAACCGACGAACTTTTAATGCGGCATAGAGATTCGTCATTTCAGAACTATGTCGTATTTGCATACGCGTGGGCAATTGTCCTAGCACGAAACCAAAGACATAATCCAGGGAAATGTAGGGTGTTCCACTTAAAAATTTAAGTGGCTGGCTTGTAGCTACTGACTTGAGTAATTTATTTAACAACATCCAGCAGAGGGCCGAAACAATCGAGTCTAGGCTCTCTTCTTTGGGCTCAAGTCCTAGATGGTATTCACTTTGTCTGTTGGCTATCGATGTACGCAGCGCACCTGTACAGCGACCGCCCATTTTCTGGGTTGATTCCGAGAGATCCCAACAATTTTATCAGTGTCCCATTTGCTGTTCGGCTGTGGATCTGTTGACGGAG\n"
     ]
    }
   ],
   "source": [
    "def string_reconstruction_problem(patterns):\n",
    "    return genome_path_problem(eulerian_path_problem(debrujin_graph_from_kmers(patterns)))\n",
    "\n",
    "\n",
    "def debrujin_graph_from_kmers(patterns):\n",
    "    kmers = []\n",
    "    for pattern in patterns:\n",
    "        kmers = kmers + suffix_composition(len(pattern), pattern, uniq=True)\n",
    "    kmers = set(kmers)\n",
    "    dict = {}\n",
    "    for kmer1 in kmers:\n",
    "        dict[kmer1] = []\n",
    "    for kmer in patterns:\n",
    "        dict[prefix(kmer)].append(suffix(kmer))\n",
    "    return dict\n",
    "\n",
    "\n",
    "def genome_path_problem(kmers, apppend_last=True):\n",
    "    genome = ''\n",
    "    kmer_length = len(kmers[0])\n",
    "    for kmer in kmers:\n",
    "        genome += kmer[0]\n",
    "    if apppend_last:\n",
    "        genome += kmer[1:]\n",
    "    return genome\n",
    "\n",
    "def eulerian_path_problem(dict):\n",
    "    stack=[]\n",
    "    balanced_count = get_balance_count(dict)\n",
    "    stack.append([k for k, v in balanced_count.items() if v==-1][0])\n",
    "    path = []\n",
    "    while stack != []:\n",
    "        u_v = stack[-1]\n",
    "        try:\n",
    "            w = dict[u_v][0]\n",
    "            stack.append(w)\n",
    "            dict[u_v].remove(w)\n",
    "        except:\n",
    "            path.append(stack.pop())\n",
    "    return path[::-1]\n",
    "\n",
    "\n",
    "def suffix_composition(k, text, uniq=False):\n",
    "    kmers = []\n",
    "    for i in range(len(text)+1-k):\n",
    "        kmers.append(text[i:i+k-1])\n",
    "    if uniq:\n",
    "        return sorted(list(kmers))\n",
    "    else:\n",
    "        return sorted(kmers)\n",
    "\n",
    "\n",
    "def get_balance_count(adj_list):\n",
    "    balanced_count = dict.fromkeys(adj_list.keys(), 0)\n",
    "    # Look for nodes balancing\n",
    "    for node in adj_list.keys():\n",
    "        for out in adj_list[node]:\n",
    "            balanced_count[node] -= 1\n",
    "            try:\n",
    "                balanced_count[out] += 1\n",
    "            except:\n",
    "                balanced_count[out] = 1\n",
    "    return balanced_count\n",
    "\n",
    "\n",
    "def suffix(string):\n",
    "    return string[1:]\n",
    "\n",
    "\n",
    "def prefix(string):\n",
    "    return string[0:-1]\n",
    "\n",
    "\n",
    "if __name__ == \"__main__\":\n",
    "    data = \"\".join(open('StringReconstructionProblem.txt')).split()\n",
    "    print(string_reconstruction_problem(data[1:]))"
   ]
  },
  {
   "cell_type": "markdown",
   "metadata": {},
   "source": [
    "Reference=\"https://github.com/Butskov/Bioinformatics-Algorithms/blob/master/week5-6/11%20-%20String%20Reconstruction%20Problem.py\""
   ]
  },
  {
   "cell_type": "markdown",
   "metadata": {},
   "source": [
    "In a composition, there are a set of kmers in a string. We can order it but the position is not avaible. So we need to order by lexicography order. Which is alphabetically order at the first letter like in dictionary. So we generate possible composition of the sequence then order it alphabetically. By applying De Bruijn and Euler concept in this, we noticed that there are kmers that been ignored.\n",
    "\n",
    "Example\n",
    "\n",
    "CTTA - ACCA - TACC - GGCT - GCTT - TTAC\n",
    "\n",
    "1st iteration = CTTA -> TTAC\n",
    "2nd iteration = CTTA -> TTAC -> ACCA\n",
    "at this point you will noticed that not any kmers can be overlap with ACCA so it is the end of the node. Now we look if there any node that can overlap behind CTTA.\n",
    "\n",
    "3rd iteration = GGCT -> CTTA -> TTAC -> ACCA\n",
    "\n",
    "at this point you will notice that no any kmers can be overlap behind GGCT so that is the end of prenode.\n",
    "\n",
    "\n"
   ]
  },
  {
   "cell_type": "code",
   "execution_count": null,
   "metadata": {},
   "outputs": [],
   "source": []
  }
 ],
 "metadata": {
  "kernelspec": {
   "display_name": "Python 3",
   "language": "python",
   "name": "python3"
  },
  "language_info": {
   "codemirror_mode": {
    "name": "ipython",
    "version": 3
   },
   "file_extension": ".py",
   "mimetype": "text/x-python",
   "name": "python",
   "nbconvert_exporter": "python",
   "pygments_lexer": "ipython3",
   "version": "3.8.5"
  }
 },
 "nbformat": 4,
 "nbformat_minor": 4
}
